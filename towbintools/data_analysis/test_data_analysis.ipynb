{
 "cells": [
  {
   "cell_type": "code",
   "execution_count": 12,
   "metadata": {},
   "outputs": [],
   "source": [
    "from growth_rate import compute_growth_rate_per_larval_stage\n",
    "import numpy as np\n",
    "import matplotlib.pyplot as plt\n",
    "import pandas as pd\n",
    "from scipy.signal import savgol_filter, medfilt"
   ]
  },
  {
   "cell_type": "code",
   "execution_count": 13,
   "metadata": {},
   "outputs": [],
   "source": [
    "filemap_path = \"/mnt/external.data/TowbinLab/spsalmon/pipeline_test_folder/analysis/report/analysis_filemap.csv\"\n",
    "filemap = pd.read_csv(filemap_path)"
   ]
  },
  {
   "cell_type": "code",
   "execution_count": 16,
   "metadata": {},
   "outputs": [
    {
     "name": "stdout",
     "output_type": "stream",
     "text": [
      "{'L1': 2.531636752883958e-05, 'L2': 2.44606490629947e-05, 'L3': 3.0016336996517912e-05, 'L4': 2.612393270659235e-05}\n"
     ]
    }
   ],
   "source": [
    "volume = filemap['ch2_seg_str_area'].to_numpy()\n",
    "time = filemap['ExperimentTime'].to_numpy()\n",
    "classification = filemap['ch2_seg_str_worm_type'].to_numpy()\n",
    "ecdysis = {}\n",
    "molts = ['HatchTime', 'M1' , 'M2', 'M3', 'M4']\n",
    "\n",
    "for molt in molts:\n",
    "    ecdysis[molt] = int(filemap[molt].iloc[0])\n",
    "\n",
    "growth_rates = compute_growth_rate_per_larval_stage(volume, time, classification, ecdysis, ignore_start_fraction=0.1, ignore_end_fraction=0.25)\n",
    "\n",
    "print(growth_rates)"
   ]
  },
  {
   "cell_type": "code",
   "execution_count": null,
   "metadata": {},
   "outputs": [],
   "source": []
  },
  {
   "cell_type": "code",
   "execution_count": 15,
   "metadata": {},
   "outputs": [
    {
     "ename": "NameError",
     "evalue": "name 'log_volume_l1' is not defined",
     "output_type": "error",
     "traceback": [
      "\u001b[0;31m---------------------------------------------------------------------------\u001b[0m",
      "\u001b[0;31mNameError\u001b[0m                                 Traceback (most recent call last)",
      "Cell \u001b[0;32mIn[15], line 1\u001b[0m\n\u001b[0;32m----> 1\u001b[0m diff \u001b[38;5;241m=\u001b[39m np\u001b[38;5;241m.\u001b[39mdiff(\u001b[43mlog_volume_l1\u001b[49m)\u001b[38;5;241m/\u001b[39mnp\u001b[38;5;241m.\u001b[39mdiff(time_l1)\n\u001b[1;32m      2\u001b[0m plt\u001b[38;5;241m.\u001b[39mplot(time_l1[:\u001b[38;5;241m-\u001b[39m\u001b[38;5;241m1\u001b[39m], diff)\n\u001b[1;32m      3\u001b[0m plt\u001b[38;5;241m.\u001b[39mshow()\n",
      "\u001b[0;31mNameError\u001b[0m: name 'log_volume_l1' is not defined"
     ]
    }
   ],
   "source": [
    "diff = np.diff(log_volume_l1)/np.diff(time_l1)\n",
    "plt.plot(time_l1[:-1], diff)\n",
    "plt.show()\n",
    "print(np.mean(diff))\n",
    "print(np.median(diff))"
   ]
  }
 ],
 "metadata": {
  "kernelspec": {
   "display_name": "Python 3",
   "language": "python",
   "name": "python3"
  },
  "language_info": {
   "codemirror_mode": {
    "name": "ipython",
    "version": 3
   },
   "file_extension": ".py",
   "mimetype": "text/x-python",
   "name": "python",
   "nbconvert_exporter": "python",
   "pygments_lexer": "ipython3",
   "version": "3.9.18"
  }
 },
 "nbformat": 4,
 "nbformat_minor": 2
}
